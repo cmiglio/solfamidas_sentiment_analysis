{
 "cells": [
  {
   "cell_type": "markdown",
   "metadata": {},
   "source": [
    "# Probar clasificadores y crear submission\n",
    "\n",
    "Fichero definitivo para probar diferentes clasificadores y crear una submission. Todas las funciones definidas por nosotros se guardan en el fichero sentimentAnalysis.py. Lo primero que hay que hacer es llamar a este paquete de funciones como si se tratase de cualquier otro paquete."
   ]
  },
  {
   "cell_type": "code",
   "execution_count": 1,
   "metadata": {
    "collapsed": true
   },
   "outputs": [],
   "source": [
    "# Importamos ficheros necesarios para el script\n",
    "# (lo que se ejecuta dentro de una funcion se llama desde el sentiment analysis)\n",
    "import pandas as pd\n",
    "from sklearn.naive_bayes import BernoulliNB, MultinomialNB\n",
    "from sklearn.neighbors import KNeighborsClassifier\n",
    "from sklearn.svm import LinearSVC, SVC \n",
    "from sklearn.linear_model import SGDClassifier\n",
    "from sklearn.linear_model import LogisticRegression\n",
    "import matplotlib.pyplot as plt\n",
    "%matplotlib inline\n",
    "# Importamos el fichero sentiment analysis. \n",
    "import sentimentAnalysis as sa"
   ]
  },
  {
   "cell_type": "markdown",
   "metadata": {},
   "source": [
    "## Scrapping: Crear csv \n",
    "**nota**: No ejecutar este apartado a no ser que se quiera volver a crear el fichero de preprocesado. Este apartado es para hacer scrapping en la web de twitter"
   ]
  },
  {
   "cell_type": "code",
   "execution_count": null,
   "metadata": {
    "collapsed": true
   },
   "outputs": [],
   "source": [
    "# Preprocesado de datos \n",
    "df=pd.read_csv('tweets_public.csv',index_col='tweet_id')\n",
    "df_preprocesado=sa.scrap_data_and_preprocess(df)\n",
    "df_preprocesado.to_csv('tweets_processed.csv')\n",
    "\n",
    "# Preprocesado de datos para submission\n",
    "df_sub = pd.read_csv('tweets_submission.csv', index_col='tweet_id')\n",
    "df_sub_proc=sa.scrap_data_and_preprocess(df_sub)\n",
    "df_sub_proc.to_csv('tweets_submission_processed.csv')"
   ]
  },
  {
   "cell_type": "markdown",
   "metadata": {},
   "source": [
    "## Preprocesado"
   ]
  },
  {
   "cell_type": "code",
   "execution_count": 2,
   "metadata": {
    "collapsed": true
   },
   "outputs": [],
   "source": [
    "df_raw=pd.read_csv('tweets_public.csv',index_col='tweet_id')\n",
    "df = pd.read_csv('tweets_processed.csv', index_col='tweet_id')\n",
    "\n",
    "binary=False;\n",
    "extra_features=True;\n",
    "max_df=0.4;\n",
    "max_features=1000;\n",
    "ngram_range=2;\n",
    "norm=1;\n",
    "add_stemmer=True;\n",
    "add_stopwords=True;\n",
    "is_submission=True;\n",
    "# Si se quieren añadir más cosas al preprocesado, se haría en esta función\n",
    "data = sa.preprocess_data(df,df_raw,extra_features,add_stemmer,is_submission)"
   ]
  },
  {
   "cell_type": "markdown",
   "metadata": {},
   "source": [
    "## Creación de la matriz de datos"
   ]
  },
  {
   "cell_type": "code",
   "execution_count": 3,
   "metadata": {
    "collapsed": true
   },
   "outputs": [],
   "source": [
    "# Aqui se crea la bag of words y se añaden las features extra\n",
    "dataset = sa.obtain_data_representation(data,\n",
    "                                        None,\n",
    "                                        max_df,\n",
    "                                        binary,\n",
    "                                        max_features,\n",
    "                                        ngram_range,\n",
    "                                        norm,\n",
    "                                        extra_features,\n",
    "                                        add_stemmer,\n",
    "                                        add_stopwords)"
   ]
  },
  {
   "cell_type": "markdown",
   "metadata": {},
   "source": [
    "## Entrenar modelo y observar resultado"
   ]
  },
  {
   "cell_type": "code",
   "execution_count": 6,
   "metadata": {},
   "outputs": [
    {
     "name": "stdout",
     "output_type": "stream",
     "text": [
      "Model score is: 0.617691916624301\n"
     ]
    }
   ],
   "source": [
    "# Entrenamos el modelo: Los modelos con mejores resultados fueron \"SVC y LogisticRegression\"\n",
    "model , _ ,conf, gcb,bag = sa.train_model(dataset, SVC, kernel='linear')\n",
    "#model , _ ,conf, gcb,bag = sa.train_model(dataset, LogisticRegression, penalty='l2',solver='newton-cg',multi_class='multinomial')\n"
   ]
  },
  {
   "cell_type": "code",
   "execution_count": 7,
   "metadata": {},
   "outputs": [
    {
     "name": "stdout",
     "output_type": "stream",
     "text": [
      "Normalized confusion matrix\n",
      "[[0.36639118 0.41046832 0.2231405 ]\n",
      " [0.11411411 0.5015015  0.38438438]\n",
      " [0.04157783 0.16098081 0.79744136]]\n"
     ]
    },
    {
     "data": {
      "image/png": "[encoded data removed]",
      "text/plain": [
       "<matplotlib.figure.Figure at 0x11ff9f8d0>"
      ]
     },
     "metadata": {},
     "output_type": "display_data"
    }
   ],
   "source": [
    "# Plot confusion matrix\n",
    "plt.figure()\n",
    "sa.plot_confusion_matrix(conf, ['positive', 'neutral', 'negative'],True)"
   ]
  },
  {
   "cell_type": "markdown",
   "metadata": {},
   "source": [
    "## Crear submission\n",
    "\n",
    "Una vez tenemos el clasificador que nos convence, hacemos lo mismo con el de submission"
   ]
  },
  {
   "cell_type": "code",
   "execution_count": null,
   "metadata": {
    "collapsed": true
   },
   "outputs": [],
   "source": [
    "df_submission = pd.read_csv('tweets_submission_processed.csv', index_col='tweet_id')\n",
    "df_submission_raw = pd.read_csv('tweets_submission.csv', index_col='tweet_id')\n",
    "\n",
    "# We use df_submision as test, otherwise it would split df in train/test\n",
    "# Se usan las mismas características que antes\n",
    "is_submission=True\n",
    "\n",
    "data_submission = sa.preprocess_data(df_submission,df_submission_raw,extra_features,add_stemmer,is_submission)\n",
    "\n",
    "\n",
    "submission_dataset =sa.obtain_data_representation(data,\n",
    "                                               data_submission,\n",
    "                                               max_df,\n",
    "                                               binary,\n",
    "                                               max_features,\n",
    "                                               ngram_range,\n",
    "                                               norm,\n",
    "                                               extra_features,\n",
    "                                               add_stemmer,\n",
    "                                               add_stopwords)\n",
    "\n",
    "# Predict for df_submission\n",
    "#_, y_pred = train_model(submission_dataset, BernoulliNB)\n",
    "_, y_pred,_,_,_ = sa.train_model(submission_dataset, LogisticRegression, penalty='l2',solver='newton-cg',multi_class='multinomial')\n",
    "\n",
    "# Create submission file with obtained y_pred\n",
    "sa.create_submit_file(df_submission, y_pred)\n"
   ]
  },
  {
   "cell_type": "code",
   "execution_count": null,
   "metadata": {
    "collapsed": true
   },
   "outputs": [],
   "source": []
  }
 ],
 "metadata": {
  "kernelspec": {
   "display_name": "Python 3",
   "language": "python",
   "name": "python3"
  },
  "language_info": {
   "codemirror_mode": {
    "name": "ipython",
    "version": 3
   },
   "file_extension": ".py",
   "mimetype": "text/x-python",
   "name": "python",
   "nbconvert_exporter": "python",
   "pygments_lexer": "ipython3",
   "version": "3.6.3"
  }
 },
 "nbformat": 4,
 "nbformat_minor": 2
}
